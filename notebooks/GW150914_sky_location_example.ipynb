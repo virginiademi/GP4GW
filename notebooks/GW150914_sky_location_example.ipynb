{
 "cells": [
  {
   "cell_type": "code",
   "execution_count": 1,
   "metadata": {},
   "outputs": [],
   "source": [
    "import numpy as np\n",
    "import matplotlib.pyplot as plt\n",
    "import pandas as pd\n",
    "import corner\n",
    "\n",
    "from pesummary.core.plots.bounded_1d_kde import bounded_1d_kde, TransformBoundedKDE\n",
    "from pesummary.gw.plots.bounds import default_bounds\n",
    "from scipy import stats\n",
    "\n",
    "import tensorflow as tf\n",
    "import tensorflow_probability as tfp\n",
    "import gpflow\n",
    "import arviz as az\n",
    "from sklearn.preprocessing import StandardScaler, MinMaxScaler\n",
    "from uncertainties import unumpy\n",
    "\n",
    "from gp4gw.density.bounded_model import BoundedDensityModel\n",
    "from gp4gw.density.data_preparation import *\n",
    "from gp4gw.density.training_tools import *\n",
    "\n",
    "# import scipy.integrate as integrate\n",
    "from scipy import interpolate"
   ]
  },
  {
   "cell_type": "code",
   "execution_count": 2,
   "metadata": {},
   "outputs": [],
   "source": [
    "%matplotlib inline"
   ]
  },
  {
   "cell_type": "code",
   "execution_count": 3,
   "metadata": {},
   "outputs": [],
   "source": [
    "np.random.seed(103543)"
   ]
  },
  {
   "cell_type": "markdown",
   "metadata": {
    "collapsed": "true"
   },
   "source": [
    "## Plotting Code (could make a plotting utils module but the plots are very tuned for this example)"
   ]
  },
  {
   "cell_type": "code",
   "execution_count": 4,
   "metadata": {},
   "outputs": [],
   "source": [
    "def get_fill_positions(lower_contours, upper_contours):\n",
    "    i = 0 # corresponds to upper bound\n",
    "\n",
    "    ar_len_upper = 0    \n",
    "    for j in range(len(lower_contours.collections[i].get_paths())):\n",
    "        ar_len_upper += len(lower_contours.collections[i].get_paths()[j])\n",
    "\n",
    "    xx_upper = np.zeros(ar_len_upper)\n",
    "    yy_upper = np.zeros(ar_len_upper)\n",
    "    disc = []\n",
    "    start = 0\n",
    "\n",
    "    for j in range(len(lower_contours.collections[i].get_paths())):\n",
    "        pp = lower_contours.collections[i].get_paths()[j]\n",
    "        vv = pp.vertices\n",
    "        disc.append(start + vv.shape[0] + j)\n",
    "        xx_upper[start : start + vv.shape[0]] = vv[:, 0]\n",
    "        yy_upper[start : start + vv.shape[0]] = vv[:, 1]\n",
    "        start = start + vv.shape[0]\n",
    "\n",
    "    for point in disc: \n",
    "        xx_upper = np.insert(xx_upper, point, np.nan)\n",
    "        yy_upper = np.insert(yy_upper, point, np.nan)\n",
    "\n",
    "    i = 1 # corresponds to lower bound\n",
    "    ar_len_lower = 0    \n",
    "    for j in range(len(lower_contours.collections[i].get_paths())):\n",
    "        ar_len_lower += len(lower_contours.collections[i].get_paths()[j])\n",
    "\n",
    "    xx_lower = np.zeros(ar_len_lower)\n",
    "    yy_lower = np.zeros(ar_len_lower)\n",
    "    disc = []\n",
    "    start = 0\n",
    "\n",
    "\n",
    "    for j in range(len(lower_contours.collections[i].get_paths())):\n",
    "        pp = lower_contours.collections[i].get_paths()[j]\n",
    "        vv = pp.vertices\n",
    "        disc.append(start + vv.shape[0] + j)\n",
    "        xx_lower[start : start + vv.shape[0]] = vv[:, 0]\n",
    "        yy_lower[start : start + vv.shape[0]] = vv[:, 1]\n",
    "        start = start + vv.shape[0]\n",
    "\n",
    "    for point in disc: \n",
    "        xx_lower = np.insert(xx_lower, point, np.nan)\n",
    "        yy_lower = np.insert(yy_lower, point, np.nan)\n",
    "\n",
    "    # don't need loop here as contour at 90% is one array,\n",
    "    # this is because there are no islands\n",
    "\n",
    "    p = upper_contours.collections[1].get_paths()[0]\n",
    "    v = p.vertices\n",
    "    xxx_lower = v[:, 0]\n",
    "    yyy_lower = v[:, 1]\n",
    "\n",
    "    p = upper_contours.collections[0].get_paths()[0]\n",
    "    v = p.vertices\n",
    "    xxx_upper = v[:, 0]\n",
    "    yyy_upper = v[:, 1]\n",
    "\n",
    "    # need to interpolate the surface so that we can evaluate all contours at the same \n",
    "    # points, we can then do fill between at these points\n",
    "    tck_lower, u_lower = interpolate.splprep([xxx_lower,\n",
    "                                              yyy_lower], s=0)\n",
    "    unew = np.linspace(0,\n",
    "                       1.01,\n",
    "                       len(xx_lower))\n",
    "    out_lower = interpolate.splev(unew,\n",
    "                            tck_lower)\n",
    "    \n",
    "    tck_upper, u_lower = interpolate.splprep([xxx_upper,\n",
    "                                              yyy_upper], s=0)\n",
    "    unew = np.linspace(0,\n",
    "                       1.01,\n",
    "                       len(xx_upper))\n",
    "\n",
    "    out_upper = interpolate.splev(unew,\n",
    "                            tck_upper                             \n",
    "                                 )\n",
    "    interp_lower_x= out_lower[0]\n",
    "    interp_lower_y= out_lower[1]\n",
    "    \n",
    "    interp_upper_x = out_upper[0][::5]\n",
    "    interp_upper_y = out_upper[1][::5]\n",
    "    \n",
    "    return xx_lower, xx_upper, yy_lower, yy_upper, interp_lower_x, interp_lower_y, interp_upper_x, interp_upper_y\n",
    "\n",
    "\n",
    "def make_zoom_insets(samples,\n",
    "                     xx_lower,\n",
    "                     interp_lower_x,\n",
    "                     yy_lower,\n",
    "                     interp_lower_y,\n",
    "                     xx_upper,\n",
    "                     interp_upper_x,\n",
    "                     yy_upper,\n",
    "                     interp_upper_y, \n",
    "                     new_bin_array\n",
    "                    ):\n",
    "    # This is very messy, should use a named tuple to simplify number of arguments !\n",
    "    ax2 = plt.axes([0.18, 0.4, 0.12, 0.12])\n",
    "    ax2.scatter(samples['ra'], samples['dec'], color=\"k\", s = 0.5, marker=\"o\", alpha = 0.5)\n",
    "\n",
    "    ax2.fill(np.append(xx_lower, interp_lower_x[::-1]),\n",
    "             np.append(yy_lower, interp_lower_y[::-1]), color = 'darkorange', alpha = 0.5)\n",
    "\n",
    "    ax2.fill(np.append(xx_upper[::5], interp_upper_x[::-1]),\n",
    "             np.append(yy_upper[::5], interp_upper_y[::-1]), color = 'darkorange', alpha = 0.5\n",
    "                   )\n",
    "\n",
    "    ax2.contour(\n",
    "        z.T,\n",
    "        t_contours,\n",
    "        extent=[new_bin_array[0, :].min(), new_bin_array[0, :].max(), new_bin_array[1, :].min(), new_bin_array[1, :].max()],\n",
    "        colors=\"darkorange\",\n",
    "        alpha = 1,\n",
    "        linewidths=1,\n",
    "    )\n",
    "\n",
    "    ax2.set_xlim(0.8, 1.1)\n",
    "    ax2.set_ylim(-1.1, -0.8)\n",
    "\n",
    "    ax2.set_yticks([])\n",
    "    ax2.set_xticks([])\n",
    "\n",
    "    ax3 = plt.axes([0.34, 0.4, 0.12, 0.12])\n",
    "    ax3.scatter(samples['ra'], samples['dec'], color=\"k\", s = 0.5, marker=\"o\", alpha = 0.5)\n",
    "\n",
    "    ax3.fill(np.append(xx_lower, interp_lower_x[::-1]),\n",
    "             np.append(yy_lower, interp_lower_y[::-1]), color = 'darkorange', alpha = 0.5)\n",
    "\n",
    "    ax3.fill(np.append(xx_upper[::5], interp_upper_x[::-1]),\n",
    "             np.append(yy_upper[::5], interp_upper_y[::-1]), color = 'darkorange', alpha = 0.5\n",
    "                   )\n",
    "    ax3.contour(\n",
    "        z.T,\n",
    "        t_contours,\n",
    "        extent=[new_bin_array[0, :].min(), new_bin_array[0, :].max(), new_bin_array[1, :].min(), new_bin_array[1, :].max()],\n",
    "        colors=\"darkorange\",\n",
    "        alpha = 1,\n",
    "        linewidths=1,\n",
    "    )\n",
    "\n",
    "    ax3.set_xlim(1.45, 2.1)\n",
    "    ax3.set_ylim(-1.33, -1.1)\n",
    "\n",
    "    ax3.set_yticks([])\n",
    "    ax3.set_xticks([])\n",
    "\n",
    "\n",
    "    ax4 = plt.axes([0.5, 0.4, 0.12, 0.12])\n",
    "    ax4.scatter(samples['ra'], samples['dec'], color=\"k\", s = 0.5, marker=\"o\", alpha = 0.5)\n",
    "\n",
    "    ax4.fill(np.append(xx_lower, interp_lower_x[::-1]),\n",
    "             np.append(yy_lower, interp_lower_y[::-1]), color = 'darkorange', alpha = 0.5)\n",
    "\n",
    "    ax4.fill(np.append(xx_upper[::5], interp_upper_x[::-1]),\n",
    "             np.append(yy_upper[::5], interp_upper_y[::-1]), color = 'darkorange', alpha = 0.5\n",
    "                   )\n",
    "\n",
    "    ax4.contour(\n",
    "        z.T,\n",
    "        t_contours,\n",
    "        extent=[new_bin_array[0, :].min(), new_bin_array[0, :].max(), new_bin_array[1, :].min(), new_bin_array[1, :].max()],\n",
    "        colors=\"darkorange\",\n",
    "        alpha = 1,\n",
    "        linewidths=1,\n",
    "    )\n",
    "\n",
    "    ax4.set_xlim(2.4, 2.7)\n",
    "    ax4.set_ylim(-1.2, -0.9)\n",
    "\n",
    "    ax4.set_yticks([])\n",
    "    ax4.set_xticks([])\n",
    "    \n",
    "def plot_1d_histograms_with_GP(axes, samples, bins, ra_mean, dec_mean, ra_lower, ra_upper, dec_lower, dec_upper):\n",
    "    \n",
    "    axes[0, 0].hist(\n",
    "    samples[\"ra\"],\n",
    "    density=True,\n",
    "    histtype=\"step\",\n",
    "    bins=bin_plot[0][::6],\n",
    "    linewidth=2,\n",
    "    label=\"PE samples\",\n",
    "    color='k',\n",
    "    )\n",
    "\n",
    "\n",
    "    axes[1, 1].hist(\n",
    "        samples[\"dec\"],\n",
    "        density=True,\n",
    "        histtype=\"step\",\n",
    "        bins=bin_plot[1][::6],\n",
    "        orientation=\"horizontal\",\n",
    "        linewidth=2,\n",
    "        color='k',\n",
    "    )\n",
    "\n",
    "    axes[0, 0].plot(\n",
    "        centroid_calc(bins[0]),\n",
    "        ra_mean,\n",
    "        color='darkorange',\n",
    "        label=r\"GP $\\mu(\\vec{x})$, $2\\sigma(\\vec{x})$\",\n",
    ")\n",
    "    axes[1, 1].plot(dec_mean, centroid_calc(bins[1]), color='darkorange')\n",
    "\n",
    "\n",
    "    axes[0, 0].fill_between(\n",
    "        centroid_calc(bins[0]),\n",
    "        ra_upper,\n",
    "        ra_lower,\n",
    "        color='darkorange',\n",
    "        alpha=0.2,\n",
    "    )\n",
    "\n",
    "    axes[1, 1].fill_betweenx(\n",
    "        centroid_calc(bins[1]),\n",
    "        dec_upper,\n",
    "        dec_lower,\n",
    "        color='darkorange',\n",
    "        alpha=0.2,\n",
    "    )\n",
    "\n",
    "\n",
    "    \n",
    "def plot_1d_credible_intervals(axes, f_ra, f_dec, summary_ra, summary_dec):\n",
    "\n",
    "    axes[0, 0].axvline(\n",
    "        summary_ra.median - summary_ra.minus, ls=\"--\", color='k'\n",
    "    )\n",
    "    axes[0, 0].axvline(\n",
    "        summary_ra.median + summary_ra.plus, ls=\"--\", color='k'\n",
    "    )\n",
    "\n",
    "    axes[0, 0].axvline(\n",
    "        f_ra(0.16), ls=\"--\", color='orange'\n",
    "    )\n",
    "    axes[0, 0].axvline(\n",
    "        f_ra(0.84), ls=\"--\", color='orange'\n",
    "    )\n",
    "\n",
    "\n",
    "    axes[1, 1].axhline(\n",
    "        summary_dec.median - summary_dec.minus, ls=\"--\", color='k'\n",
    "    )\n",
    "\n",
    "    axes[1, 1].axhline(\n",
    "        summary_dec.median + summary_dec.plus, ls=\"--\", color='k'\n",
    "    )\n",
    "\n",
    "    axes[1, 1].axhline(\n",
    "        f_dec(0.16), ls=\"--\", color='orange'\n",
    "    )\n",
    "    axes[1, 1].axhline(\n",
    "        f_dec(0.84), ls=\"--\", color='orange'\n",
    "    )\n",
    "    \n",
    "    \n",
    "def get_contour_bounds(axes, t_contours, z_low, z_high):\n",
    "    # get contour upper and lower\n",
    "    upper_contours = axes[1, 0].contour(\n",
    "        z_high.T,\n",
    "        t_contours,\n",
    "        extent=[new_bin_array[0, :].min(), new_bin_array[0, :].max(), new_bin_array[1, :].min(), new_bin_array[1, :].max()],\n",
    "        colors=\"darkorange\",\n",
    "        linewidths=0,\n",
    "        alpha = 0.2,\n",
    "    )\n",
    "\n",
    "    lower_contours = axes[1, 0].contour(\n",
    "        z_low.T,\n",
    "        t_contours,\n",
    "        extent=[new_bin_array[0, :].min(), new_bin_array[0, :].max(), new_bin_array[1, :].min(), new_bin_array[1, :].max()],\n",
    "        colors=\"darkorange\",\n",
    "        linewidths=0,\n",
    "        alpha = 0.2,\n",
    "    )\n",
    "    return lower_contours, upper_contours\n",
    "\n",
    "def make_central_fill_plot(xx_lower, xx_upper, yy_lower, yy_upper, interp_lower_x, interp_lower_y, interp_upper_x, interp_upper_y):\n",
    "\n",
    "    axes[1, 0].fill(np.append(xx_lower, interp_lower_x[::-1]),\n",
    "             np.append(yy_lower,interp_lower_y[::-1]), color = 'darkorange', alpha = 0.5)\n",
    "\n",
    "    axes[1, 0].fill(np.append(xx_upper[::5], interp_upper_x[::-1]),\n",
    "             np.append(yy_upper[::5], interp_upper_y[::-1]), color = 'darkorange', alpha = 0.5)\n",
    "\n",
    "\n",
    "    axes[1, 0].contour(\n",
    "        z.T,\n",
    "        t_contours,\n",
    "        extent=[new_bin_array[0, :].min(), new_bin_array[0, :].max(), new_bin_array[1, :].min(), new_bin_array[1, :].max()],\n",
    "        colors=\"darkorange\",\n",
    "        alpha = 1,\n",
    "        linewidths=1,\n",
    "    )\n",
    "\n",
    "    axes[1, 0].scatter(unscaled_data['ra'], unscaled_data['dec'], color=\"k\", s = 1., marker=\"o\", alpha = 0.5)\n",
    "    \n",
    "def plot_arrows(axes):\n",
    "    axes[1, 0].arrow(1., -0.85, 0.05, 0.2, width = 0.01, head_width = 0.05, color = 'k')\n",
    "\n",
    "    axes[1, 0].arrow(2.4, -1., -0.05, 0.35, width = 0.01, head_width = 0.05, color = 'k')\n",
    "    axes[1, 0].arrow(1.75, -1.13, 0., 0.45, width = 0.01, head_width = 0.05, color = 'k')\n",
    "    \n",
    "\n",
    "def do_plot_formatting():\n",
    "    for ax in fig.get_axes():\n",
    "        ax.tick_params(axis=\"both\", labelsize=12)\n",
    "    plt.subplots_adjust(wspace=0, hspace=0)\n",
    "\n",
    "    axes[0, 0].set_xticklabels([])\n",
    "    axes[0, 0].set_yticklabels([])\n",
    "    axes[0, 1].axis(\"off\")\n",
    "\n",
    "    axes[1, 0].set_xlabel(\"ra\", fontsize=20)\n",
    "    axes[1, 0].set_ylabel(\"dec\", fontsize=20)\n",
    "\n",
    "    axes[1, 1].set_xticklabels([])\n",
    "    axes[1, 1].set_yticklabels([])\n",
    "\n",
    "\n",
    "    axes[0,0].set_ylim(-0.03, 1.3)\n",
    "\n",
    "    axes[1,1].set_xlim(-0.15, 6.7)\n",
    "    \n",
    "\n",
    "def add_legend_to_plot(axes):\n",
    "    handles, labels = axes[0, 0].get_legend_handles_labels()\n",
    "\n",
    "    order = [1, 0]\n",
    "\n",
    "    axes[1, 0].legend(\n",
    "        [handles[idx] for idx in order],\n",
    "        [labels[idx] for idx in order],\n",
    "        fontsize=18,\n",
    "        loc=\"lower center\",\n",
    "        bbox_to_anchor=(0.23, 0.79),\n",
    "    )\n",
    "    "
   ]
  },
  {
   "cell_type": "markdown",
   "metadata": {},
   "source": [
    "# Loading posterior samples and selecting 2 dimensions to interpolate, e.g. sky location parameters"
   ]
  },
  {
   "cell_type": "code",
   "execution_count": 5,
   "metadata": {},
   "outputs": [],
   "source": [
    "data_path = \"/home/virginia.demilio/GP-density-estimation/pe_samples/GW150914_downsampled_posterior_samples.dat\""
   ]
  },
  {
   "cell_type": "code",
   "execution_count": 6,
   "metadata": {},
   "outputs": [
    {
     "name": "stdout",
     "output_type": "stream",
     "text": [
      "Posterior samples array:  (50000, 42)\n"
     ]
    }
   ],
   "source": [
    "unscaled_data = pd.read_csv(data_path).sample(frac=1)\n",
    "print(\"Posterior samples array: \", unscaled_data.shape)"
   ]
  },
  {
   "cell_type": "code",
   "execution_count": 7,
   "metadata": {},
   "outputs": [],
   "source": [
    "param_names = [\"ra\", \"dec\"]"
   ]
  },
  {
   "cell_type": "markdown",
   "metadata": {},
   "source": [
    "# Select optimal binning"
   ]
  },
  {
   "cell_type": "markdown",
   "metadata": {},
   "source": [
    "We bin the data such that w have a few empty bins where the probability is zero"
   ]
  },
  {
   "cell_type": "code",
   "execution_count": 8,
   "metadata": {},
   "outputs": [],
   "source": [
    "Nb = 35\n",
    "bin_array = np.vstack(\n",
    "    [\n",
    "        np.linspace(\n",
    "            unscaled_data[\"ra\"].min() - 0.1, unscaled_data[\"ra\"].max() + 0.1, Nb\n",
    "        ),\n",
    "        np.linspace(\n",
    "            unscaled_data[\"dec\"].min() - 0.1, unscaled_data[\"dec\"].max() + 0.1, Nb\n",
    "        ),\n",
    "    ]\n",
    ")"
   ]
  },
  {
   "cell_type": "markdown",
   "metadata": {
    "collapsed": "true"
   },
   "source": [
    "# Setting up histogram and scale data"
   ]
  },
  {
   "cell_type": "markdown",
   "metadata": {},
   "source": [
    "The posterior (log_likelihood + log_prior) is defined over all parameters (~15D). \n",
    "\n",
    "We want to interpolate only over a slice (say 2D), i.e. the marginal posterior, which we can approximate as the value of bin counts in the 2D histogram."
   ]
  },
  {
   "cell_type": "code",
   "execution_count": 9,
   "metadata": {},
   "outputs": [],
   "source": [
    "counts, bins = np.histogramdd(\n",
    "    np.array(unscaled_data[param_names]), density=True, bins=bin_array\n",
    ")"
   ]
  },
  {
   "cell_type": "code",
   "execution_count": 10,
   "metadata": {},
   "outputs": [
    {
     "name": "stdout",
     "output_type": "stream",
     "text": [
      "Shape of binning: (34, 2)\n",
      "Histogram points: (1156, 2)\n"
     ]
    }
   ],
   "source": [
    "x = create_2d_data_set(bins)\n",
    "y = counts.flatten()"
   ]
  },
  {
   "cell_type": "code",
   "execution_count": 11,
   "metadata": {},
   "outputs": [
    {
     "name": "stdout",
     "output_type": "stream",
     "text": [
      "Shape of x-data: N=1156, Q=2\n"
     ]
    }
   ],
   "source": [
    "x_scaled, y_scaled, x_scaler, y_scaler = scale_data(x, y)\n",
    "\n",
    "X = tf.convert_to_tensor(x_scaled, dtype=tf.float64)\n",
    "Y = tf.convert_to_tensor(y_scaled.reshape(-1, 1), dtype=tf.float64)"
   ]
  },
  {
   "cell_type": "code",
   "execution_count": 12,
   "metadata": {},
   "outputs": [],
   "source": [
    "prior_ranges = {\n",
    "    \"ra\": tfp.distributions.Uniform(\n",
    "        unscaled_data[\"ra\"].min(), unscaled_data[\"ra\"].max()\n",
    "    ),\n",
    "    \"dec\": tfp.distributions.Uniform(\n",
    "        unscaled_data[\"dec\"].min(), unscaled_data[\"dec\"].max()\n",
    "    ),\n",
    "}"
   ]
  },
  {
   "cell_type": "markdown",
   "metadata": {
    "collapsed": "true"
   },
   "source": [
    "# Setup GP model\n",
    "* add noise error from histogram to the GP likelihood\n",
    "* define kernel"
   ]
  },
  {
   "cell_type": "code",
   "execution_count": 13,
   "metadata": {},
   "outputs": [],
   "source": [
    "dens_std, dens_std_unscaled = calc_hist_errors(np.array(unscaled_data[param_names]), bin_array, y_scaler)"
   ]
  },
  {
   "cell_type": "code",
   "execution_count": 14,
   "metadata": {},
   "outputs": [],
   "source": [
    "dens_std_1 = dens_std "
   ]
  },
  {
   "cell_type": "code",
   "execution_count": 15,
   "metadata": {},
   "outputs": [],
   "source": [
    "var = dens_std_1 ** 2 +  1 * 10 ** - 6  # adding some jitter to avoid Cholesky decomposition and 1/0 errors"
   ]
  },
  {
   "cell_type": "code",
   "execution_count": 16,
   "metadata": {},
   "outputs": [],
   "source": [
    "Y_data = np.hstack([Y, tf.reshape(var, (-1, 1))])"
   ]
  },
  {
   "cell_type": "code",
   "execution_count": 17,
   "metadata": {},
   "outputs": [],
   "source": [
    "likelihood = HeteroskedasticGaussian()"
   ]
  },
  {
   "cell_type": "code",
   "execution_count": 18,
   "metadata": {},
   "outputs": [],
   "source": [
    "kernel = gpflow.kernels.RBF(lengthscales=[0.1] * len(param_names), variance=0.1)"
   ]
  },
  {
   "cell_type": "code",
   "execution_count": 19,
   "metadata": {},
   "outputs": [],
   "source": [
    "model = gpflow.models.VGP(\n",
    "    (X, Y_data),\n",
    "    kernel=kernel,\n",
    "    likelihood=likelihood,\n",
    "    num_latent_gps=1,\n",
    "    mean_function=gpflow.mean_functions.Constant(y_scaler.transform(np.zeros((1, 1)))),  # we set the mean GP to be zero probability dnsity\n",
    ")"
   ]
  },
  {
   "cell_type": "code",
   "execution_count": 20,
   "metadata": {},
   "outputs": [],
   "source": [
    "set_trainable(model.mean_function, False)"
   ]
  },
  {
   "cell_type": "markdown",
   "metadata": {
    "collapsed": "true"
   },
   "source": [
    "# Build GP model"
   ]
  },
  {
   "cell_type": "code",
   "execution_count": 21,
   "metadata": {},
   "outputs": [],
   "source": [
    "natgrad = gpflow.optimizers.NaturalGradient(gamma=1.)\n",
    "adam = tf.optimizers.Adam(lr =5 * 10**-3)"
   ]
  },
  {
   "cell_type": "code",
   "execution_count": 22,
   "metadata": {},
   "outputs": [
    {
     "name": "stdout",
     "output_type": "stream",
     "text": [
      "Epoch 10: LOSS (train) 19366.478601557683\n",
      "Epoch 20: LOSS (train) 19115.486637603393\n",
      "Epoch 30: LOSS (train) 18794.910089700254\n",
      "Epoch 40: LOSS (train) 18295.984942704705\n",
      "Epoch 50: LOSS (train) 17636.729697556962\n",
      "Epoch 60: LOSS (train) 16820.776348802618\n",
      "Epoch 70: LOSS (train) 15879.06466398219\n",
      "Epoch 80: LOSS (train) 14906.64160935485\n",
      "Epoch 90: LOSS (train) 13892.96327156899\n",
      "Epoch 100: LOSS (train) 12579.54007808485\n",
      "Epoch 110: LOSS (train) 10715.332387832794\n",
      "Epoch 120: LOSS (train) 8683.082879574104\n",
      "Epoch 130: LOSS (train) 7103.169210910153\n",
      "Epoch 140: LOSS (train) 5882.098624406072\n",
      "Epoch 150: LOSS (train) 4809.493040475882\n",
      "Epoch 160: LOSS (train) 3897.966660996616\n",
      "Epoch 170: LOSS (train) 3184.926191006771\n",
      "Epoch 180: LOSS (train) 2650.7775369915225\n",
      "Epoch 190: LOSS (train) 2258.7053662404833\n",
      "Epoch 200: LOSS (train) 1973.9980806867006\n",
      "Epoch 210: LOSS (train) 1767.1388186494178\n",
      "Epoch 220: LOSS (train) 1614.8857502317005\n",
      "Epoch 230: LOSS (train) 1500.3871087543894\n",
      "Epoch 240: LOSS (train) 1412.092542042671\n",
      "Epoch 250: LOSS (train) 1342.282536388714\n",
      "CPU times: user 39min 20s, sys: 4min 6s, total: 43min 26s\n",
      "Wall time: 5min 44s\n"
     ]
    },
    {
     "data": {
      "image/png": "[encoded data removed]",
      "text/plain": [
       "<Figure size 432x288 with 1 Axes>"
      ]
     },
     "metadata": {
      "needs_background": "light"
     },
     "output_type": "display_data"
    }
   ],
   "source": [
    "%%time\n",
    "train_exact_heteroskedastic(model, adam, natgrad, epochs = 250)"
   ]
  },
  {
   "cell_type": "code",
   "execution_count": 23,
   "metadata": {},
   "outputs": [
    {
     "data": {
      "text/html": [
       "&lt;gpflow.models.vgp.VGP object at 0x2adf84e15350&gt;\n",
       "<table>\n",
       "<thead>\n",
       "<tr><th>name                   </th><th>class    </th><th>transform     </th><th>prior  </th><th>trainable  </th><th>shape          </th><th>dtype  </th><th>value                                               </th></tr>\n",
       "</thead>\n",
       "<tbody>\n",
       "<tr><td>VGP.mean_function.c    </td><td>Parameter</td><td>Identity      </td><td>       </td><td>False      </td><td>(1, 1)         </td><td>float64</td><td>[[-0.22502439]]                                     </td></tr>\n",
       "<tr><td>VGP.kernel.variance    </td><td>Parameter</td><td>Softplus      </td><td>       </td><td>True       </td><td>()             </td><td>float64</td><td>0.3702953120484003                                  </td></tr>\n",
       "<tr><td>VGP.kernel.lengthscales</td><td>Parameter</td><td>Softplus      </td><td>       </td><td>True       </td><td>(2,)           </td><td>float64</td><td>[0.03385951 0.02863558]                             </td></tr>\n",
       "<tr><td>VGP.q_mu               </td><td>Parameter</td><td>Identity      </td><td>       </td><td>False      </td><td>(1156, 1)      </td><td>float64</td><td>[[1.12782579e-06...                                 </td></tr>\n",
       "<tr><td>VGP.q_sqrt             </td><td>Parameter</td><td>FillTriangular</td><td>       </td><td>False      </td><td>(1, 1156, 1156)</td><td>float64</td><td>[[[1.64516238e-03, 0.00000000e+00, 0.00000000e+00...</td></tr>\n",
       "</tbody>\n",
       "</table>"
      ],
      "text/plain": [
       "<gpflow.models.vgp.VGP object at 0x2adf84e15350>\n",
       "╒═════════════════════════╤═══════════╤════════════════╤═════════╤═════════════╤═════════════════╤═════════╤══════════════════════════════════════════════════════╕\n",
       "│ name                    │ class     │ transform      │ prior   │ trainable   │ shape           │ dtype   │ value                                                │\n",
       "╞═════════════════════════╪═══════════╪════════════════╪═════════╪═════════════╪═════════════════╪═════════╪══════════════════════════════════════════════════════╡\n",
       "│ VGP.mean_function.c     │ Parameter │ Identity       │         │ False       │ (1, 1)          │ float64 │ [[-0.22502439]]                                      │\n",
       "├─────────────────────────┼───────────┼────────────────┼─────────┼─────────────┼─────────────────┼─────────┼──────────────────────────────────────────────────────┤\n",
       "│ VGP.kernel.variance     │ Parameter │ Softplus       │         │ True        │ ()              │ float64 │ 0.3702953120484003                                   │\n",
       "├─────────────────────────┼───────────┼────────────────┼─────────┼─────────────┼─────────────────┼─────────┼──────────────────────────────────────────────────────┤\n",
       "│ VGP.kernel.lengthscales │ Parameter │ Softplus       │         │ True        │ (2,)            │ float64 │ [0.03385951 0.02863558]                              │\n",
       "├─────────────────────────┼───────────┼────────────────┼─────────┼─────────────┼─────────────────┼─────────┼──────────────────────────────────────────────────────┤\n",
       "│ VGP.q_mu                │ Parameter │ Identity       │         │ False       │ (1156, 1)       │ float64 │ [[1.12782579e-06...                                  │\n",
       "├─────────────────────────┼───────────┼────────────────┼─────────┼─────────────┼─────────────────┼─────────┼──────────────────────────────────────────────────────┤\n",
       "│ VGP.q_sqrt              │ Parameter │ FillTriangular │         │ False       │ (1, 1156, 1156) │ float64 │ [[[1.64516238e-03, 0.00000000e+00, 0.00000000e+00... │\n",
       "╘═════════════════════════╧═══════════╧════════════════╧═════════╧═════════════╧═════════════════╧═════════╧══════════════════════════════════════════════════════╛"
      ]
     },
     "execution_count": 23,
     "metadata": {},
     "output_type": "execute_result"
    }
   ],
   "source": [
    "model"
   ]
  },
  {
   "cell_type": "code",
   "execution_count": 24,
   "metadata": {},
   "outputs": [
    {
     "name": "stdout",
     "output_type": "stream",
     "text": [
      "Training error: 0.025339146842422503\n"
     ]
    }
   ],
   "source": [
    "print(\n",
    "    f\"Training error: {mean_squared_error(Y, model.predict_f(X)[0])}\"  # , Testing error: {mean_squared_error(Y_test, model.predict_y(X_test)[0])}\"\n",
    ")"
   ]
  },
  {
   "cell_type": "code",
   "execution_count": 25,
   "metadata": {},
   "outputs": [],
   "source": [
    "bounded_model = BoundedDensityModel(\n",
    "    likelihood=model.predict_f,\n",
    "    param_names=param_names,\n",
    "    priors=prior_ranges,\n",
    "    parameters_scaler=x_scaler,\n",
    "    y_scaler=y_scaler,\n",
    ")"
   ]
  },
  {
   "cell_type": "markdown",
   "metadata": {
    "collapsed": "true"
   },
   "source": [
    "# Evaluate 50% 90% and 99% contour lines for plotting 2D model\n",
    "* The contour lines are calculated for the GP mean and for the 2-sigma error bands\n",
    "* To evaluate the contours we evaluate the GP model over a grid of points"
   ]
  },
  {
   "cell_type": "code",
   "execution_count": 26,
   "metadata": {},
   "outputs": [
    {
     "name": "stdout",
     "output_type": "stream",
     "text": [
      "Shape of binning: (209, 2)\n",
      "Histogram points: (43681, 2)\n"
     ]
    }
   ],
   "source": [
    "Nb = Nb*6\n",
    "new_bin_array = np.vstack(\n",
    "    [\n",
    "        np.linspace(\n",
    "            unscaled_data[\"ra\"].min() - 0.1, unscaled_data[\"ra\"].max() + 0.1, Nb\n",
    "        ),\n",
    "        np.linspace(\n",
    "            unscaled_data[\"dec\"].min() - 0.1, unscaled_data[\"dec\"].max() + 0.1, Nb\n",
    "        ),\n",
    "    ]\n",
    ")\n",
    "bin_grid = x_scaler.transform(create_2d_data_set(new_bin_array))"
   ]
  },
  {
   "cell_type": "code",
   "execution_count": 27,
   "metadata": {},
   "outputs": [],
   "source": [
    "sigmas = 2 # change here if you want different error bands"
   ]
  },
  {
   "cell_type": "code",
   "execution_count": 28,
   "metadata": {},
   "outputs": [],
   "source": [
    "# Evaluating the bounded model in \"scaled\" space\n",
    "mean, var = bounded_model.predict(bin_grid)\n",
    "# mean, var = model.predict_f(bin_grid)"
   ]
  },
  {
   "cell_type": "code",
   "execution_count": 29,
   "metadata": {},
   "outputs": [],
   "source": [
    "bin_shape = Nb - 1"
   ]
  },
  {
   "cell_type": "code",
   "execution_count": 30,
   "metadata": {},
   "outputs": [],
   "source": [
    "z = y_scaler.inverse_transform(mean)\n",
    "\n",
    "z_high = y_scaler.inverse_transform(mean + sigmas*np.sqrt(var))\n",
    "z_high = z_high.reshape(bin_shape, bin_shape)\n",
    "z_high = z_high / z.sum()\n",
    "\n",
    "z_low = y_scaler.inverse_transform(mean - sigmas*np.sqrt(var)).clip(min=0.)\n",
    "z_low = z_low.reshape(bin_shape, bin_shape, order=\"C\")\n",
    "z_low = z_low / z.sum()\n",
    "\n",
    "z = z.reshape(bin_shape, bin_shape, order=\"C\")\n",
    "z = z / z.sum()\n",
    "\n",
    "n = 1000\n",
    "t = np.linspace(0, z.max(), n)\n",
    "\n",
    "integral = ((z >= t[:, None, None]) * z).sum(axis=(1, 2))\n",
    "f = interpolate.interp1d(integral, t)\n",
    "\n",
    "t_contours = f(np.array([0.9, 0.5]))"
   ]
  },
  {
   "cell_type": "markdown",
   "metadata": {
    "collapsed": "true"
   },
   "source": [
    "# Marginalise GP model mean and uncertainty over ra and dec\n",
    "\n",
    "* To propagate the errors from \"scaled\" space to \"real\" space we use the uncertainty package\n",
    "* The marginals are then normalised to be a density: Density counts = N_counts / Volume"
   ]
  },
  {
   "cell_type": "code",
   "execution_count": 31,
   "metadata": {},
   "outputs": [],
   "source": [
    "mean = mean.reshape(bin_shape, bin_shape, order=\"C\")\n",
    "gp_var = var.reshape(bin_shape, bin_shape, order=\"C\")"
   ]
  },
  {
   "cell_type": "code",
   "execution_count": 32,
   "metadata": {},
   "outputs": [],
   "source": [
    "mean_ra = np.mean(mean, axis=1)\n",
    "mean_dec = np.mean(mean, axis=0)"
   ]
  },
  {
   "cell_type": "code",
   "execution_count": 33,
   "metadata": {},
   "outputs": [],
   "source": [
    "std_ra = np.sqrt(np.mean(gp_var, axis=1))\n",
    "std_dec = np.sqrt(np.mean(gp_var, axis=1))"
   ]
  },
  {
   "cell_type": "code",
   "execution_count": 34,
   "metadata": {},
   "outputs": [],
   "source": [
    "sum_with_error_ra = unumpy.uarray(mean_ra, std_ra)\n",
    "sum_with_error_dec = unumpy.uarray(mean_dec, std_dec)"
   ]
  },
  {
   "cell_type": "code",
   "execution_count": 35,
   "metadata": {},
   "outputs": [],
   "source": [
    "scaled_sum_with_error_ra = sum_with_error_ra * y_scaler.scale_\n",
    "scaled_sum_with_error_ra = scaled_sum_with_error_ra + y_scaler.mean_\n",
    "\n",
    "scaled_sum_with_error_dec = sum_with_error_dec * y_scaler.scale_\n",
    "scaled_sum_with_error_dec = scaled_sum_with_error_dec + y_scaler.mean_"
   ]
  },
  {
   "cell_type": "code",
   "execution_count": null,
   "metadata": {},
   "outputs": [],
   "source": []
  },
  {
   "cell_type": "code",
   "execution_count": 36,
   "metadata": {},
   "outputs": [],
   "source": [
    "# Normalise so that it is a density\n",
    "scaled_dens_with_error_ra = (\n",
    "    scaled_sum_with_error_ra\n",
    "    * 1\n",
    "    / (unumpy.nominal_values(scaled_sum_with_error_ra) * np.diff(new_bin_array[0])).sum()\n",
    ")\n",
    "\n",
    "scaled_dens_with_error_dec = (\n",
    "    scaled_sum_with_error_dec\n",
    "    * 1\n",
    "    / (unumpy.nominal_values(scaled_sum_with_error_dec) * np.diff(new_bin_array[1])).sum()\n",
    ")"
   ]
  },
  {
   "cell_type": "code",
   "execution_count": 37,
   "metadata": {},
   "outputs": [],
   "source": [
    "# Extracting error with uncertainty package\n",
    "scaled_ra_std = unumpy.std_devs(scaled_dens_with_error_ra)\n",
    "scaled_dec_std = unumpy.std_devs(scaled_dens_with_error_dec)"
   ]
  },
  {
   "cell_type": "code",
   "execution_count": 38,
   "metadata": {},
   "outputs": [],
   "source": [
    "scaled_ra_mean = unumpy.nominal_values(scaled_dens_with_error_ra)\n",
    "scaled_dec_mean = unumpy.nominal_values(scaled_dens_with_error_dec)"
   ]
  },
  {
   "cell_type": "code",
   "execution_count": 39,
   "metadata": {},
   "outputs": [],
   "source": [
    "# Estimating the 2-sigma confidence bands\n",
    "upper_var_ra = scaled_ra_mean + sigmas * scaled_ra_std\n",
    "lower_var_ra = scaled_ra_mean - sigmas * scaled_ra_std\n",
    "\n",
    "upper_var_dec = scaled_dec_mean + sigmas * scaled_dec_std\n",
    "lower_var_dec = scaled_dec_mean - sigmas * scaled_dec_std"
   ]
  },
  {
   "cell_type": "markdown",
   "metadata": {
    "collapsed": "true"
   },
   "source": [
    "# Combine all plots together"
   ]
  },
  {
   "cell_type": "code",
   "execution_count": 40,
   "metadata": {},
   "outputs": [],
   "source": [
    "bin_plot = new_bin_array.copy()"
   ]
  },
  {
   "cell_type": "code",
   "execution_count": 41,
   "metadata": {},
   "outputs": [],
   "source": [
    "counts, bins = np.histogramdd(\n",
    "    np.array(unscaled_data[param_names]), density=True, bins=new_bin_array\n",
    ")"
   ]
  },
  {
   "cell_type": "code",
   "execution_count": 42,
   "metadata": {},
   "outputs": [
    {
     "name": "stdout",
     "output_type": "stream",
     "text": [
      "PE ra = ${1.62}_{-0.57}^{+0.74}$\n",
      "PE dec = ${-1.20}_{-0.06}^{+0.13}$\n"
     ]
    }
   ],
   "source": [
    "summary_ra = calc_mean_and_ci(unscaled_data[\"ra\"])\n",
    "summary_dec = calc_mean_and_ci(unscaled_data[\"dec\"])\n",
    "print(r\"PE ra = {}\".format(summary_ra.string))\n",
    "print(r\"PE dec = {}\".format(summary_dec.string))"
   ]
  },
  {
   "cell_type": "code",
   "execution_count": 43,
   "metadata": {},
   "outputs": [],
   "source": [
    "from scipy.interpolate import interp1d"
   ]
  },
  {
   "cell_type": "markdown",
   "metadata": {
    "collapsed": "true"
   },
   "source": [
    "### do inverse empirical cdfs to get credible intervals from GP"
   ]
  },
  {
   "cell_type": "code",
   "execution_count": 44,
   "metadata": {},
   "outputs": [],
   "source": [
    "f_dec = interp1d(np.cumsum(scaled_dec_mean,)/np.cumsum(scaled_dec_mean,)[-1],centroid_calc(bins[1]))\n",
    "f_ra = interp1d(np.cumsum(scaled_ra_mean,)/np.cumsum(scaled_ra_mean,)[-1],centroid_calc(bins[0]))"
   ]
  },
  {
   "cell_type": "markdown",
   "metadata": {
    "collapsed": "true"
   },
   "source": [
    "## Make Plot"
   ]
  },
  {
   "cell_type": "code",
   "execution_count": 45,
   "metadata": {},
   "outputs": [
    {
     "data": {
      "image/png": "[encoded data removed]",
      "text/plain": [
       "<Figure size 720x720 with 7 Axes>"
      ]
     },
     "metadata": {
      "needs_background": "light"
     },
     "output_type": "display_data"
    }
   ],
   "source": [
    "%matplotlib inline\n",
    "fig, axes = plt.subplots(\n",
    "    figsize=(10, 10),\n",
    "    sharex=False,\n",
    "    sharey=False,\n",
    "    ncols=2,\n",
    "    nrows=2,\n",
    "    gridspec_kw={\"width_ratios\": [3, 1], \"height_ratios\": [1, 3]},\n",
    ")\n",
    "\n",
    "plot_1d_histograms_with_GP(axes,\n",
    "                           unscaled_data,\n",
    "                           bins,\n",
    "                           scaled_ra_mean,\n",
    "                           scaled_dec_mean,\n",
    "                           lower_var_ra,\n",
    "                           upper_var_ra,\n",
    "                           lower_var_dec,\n",
    "                           upper_var_dec)\n",
    "\n",
    "plot_1d_credible_intervals(axes, f_ra, f_dec, summary_ra, summary_dec)\n",
    "\n",
    "lower_contours, upper_contours = get_contour_bounds(axes, t_contours, z_low, z_high)\n",
    "xx_lower, xx_upper, yy_lower, yy_upper, interp_lower_x, interp_lower_y, interp_upper_x, interp_upper_y = get_fill_positions(lower_contours, upper_contours)\n",
    "\n",
    "make_central_fill_plot(xx_lower,\n",
    "                       xx_upper,\n",
    "                       yy_lower,\n",
    "                       yy_upper,\n",
    "                       interp_lower_x,\n",
    "                       interp_lower_y,\n",
    "                       interp_upper_x,\n",
    "                       interp_upper_y)\n",
    "\n",
    "make_zoom_insets(unscaled_data,\n",
    "                     xx_lower,\n",
    "                     interp_lower_x,\n",
    "                     yy_lower,\n",
    "                     interp_lower_y,\n",
    "                     xx_upper,\n",
    "                     interp_upper_x,\n",
    "                     yy_upper,\n",
    "                     interp_upper_y, \n",
    "                     new_bin_array\n",
    "                    )\n",
    "\n",
    "plot_arrows(axes)\n",
    "\n",
    "do_plot_formatting()\n",
    "\n",
    "add_legend_to_plot(axes)\n",
    "\n",
    "# plt.savefig(\"GP_2D_sky_loc.png\", dpi=100)"
   ]
  },
  {
   "cell_type": "markdown",
   "metadata": {
    "collapsed": "true"
   },
   "source": [
    "### Compare GP uncertainty with bootstrap"
   ]
  },
  {
   "cell_type": "code",
   "execution_count": 46,
   "metadata": {},
   "outputs": [
    {
     "data": {
      "text/plain": [
       "<matplotlib.collections.PolyCollection at 0x2ae3ddb3ab50>"
      ]
     },
     "execution_count": 46,
     "metadata": {},
     "output_type": "execute_result"
    },
    {
     "data": {
      "image/png": "[encoded data removed]",
      "text/plain": [
       "<Figure size 432x288 with 1 Axes>"
      ]
     },
     "metadata": {
      "needs_background": "light"
     },
     "output_type": "display_data"
    }
   ],
   "source": [
    "for i in range(6000):\n",
    "    ra_boot = np.random.choice(unscaled_data[\"ra\"], int(len(unscaled_data[\"ra\"])/2))\n",
    "    plt.hist(\n",
    "    ra_boot,\n",
    "    density=True,\n",
    "    histtype=\"step\",\n",
    "    bins=bin_plot[0],\n",
    "    linewidth=2,\n",
    "    alpha = 0.01,\n",
    "    label=\"PE samples\",\n",
    "    color='k',)\n",
    "\n",
    "plt.plot(\n",
    "    centroid_calc(bins[0]),\n",
    "    scaled_ra_mean,\n",
    "    color='darkorange',\n",
    "    label=r\"GP $\\mu(\\vec{x})$, $2\\sigma(\\vec{x})$\",\n",
    ")\n",
    "\n",
    "plt.fill_between(\n",
    "    centroid_calc(bins[0]),\n",
    "    upper_var_ra,\n",
    "    lower_var_ra,\n",
    "    color='darkorange',\n",
    "    alpha=0.2,\n",
    ")"
   ]
  },
  {
   "cell_type": "code",
   "execution_count": 47,
   "metadata": {},
   "outputs": [
    {
     "data": {
      "text/plain": [
       "<matplotlib.collections.PolyCollection at 0x2ae3e52983d0>"
      ]
     },
     "execution_count": 47,
     "metadata": {},
     "output_type": "execute_result"
    },
    {
     "data": {
      "image/png": "[encoded data removed]",
      "text/plain": [
       "<Figure size 432x288 with 1 Axes>"
      ]
     },
     "metadata": {
      "needs_background": "light"
     },
     "output_type": "display_data"
    }
   ],
   "source": [
    "for i in range(6000):\n",
    "    dec_boot = np.random.choice(unscaled_data[\"dec\"], int(len(unscaled_data[\"dec\"])/2))\n",
    "    \n",
    "    plt.hist(\n",
    "    dec_boot,\n",
    "    density=True,\n",
    "    histtype=\"step\",\n",
    "    bins=bin_plot[1][::2],\n",
    "    linewidth=2,\n",
    "        alpha = 0.01,\n",
    "    label=\"PE samples\",\n",
    "    color='k',)\n",
    "\n",
    "plt.plot(\n",
    "    centroid_calc(bins[1]),\n",
    "    scaled_dec_mean,\n",
    "    color='darkorange',\n",
    "    label=r\"GP $\\mu(\\vec{x})$, $2\\sigma(\\vec{x})$\",\n",
    ")\n",
    "\n",
    "plt.fill_between(\n",
    "    centroid_calc(bins[1]),\n",
    "    upper_var_dec,\n",
    "    lower_var_dec,\n",
    "    color='darkorange',\n",
    "    alpha=0.4,\n",
    ")"
   ]
  },
  {
   "cell_type": "markdown",
   "metadata": {
    "collapsed": "true"
   },
   "source": [
    "## Extra: re-sample ra and dec with MCMC"
   ]
  },
  {
   "cell_type": "code",
   "execution_count": null,
   "metadata": {},
   "outputs": [],
   "source": []
  },
  {
   "cell_type": "code",
   "execution_count": 48,
   "metadata": {},
   "outputs": [],
   "source": [
    "# %%time\n",
    "# mcmc_points = 5000\n",
    "# num_burnin = mcmc_points * 0.5\n",
    "# num_chains = 10\n",
    "\n",
    "# print(f\"mcmc_points: {mcmc_points}, num_burnin: {int(num_burnin)}\")\n",
    "# print(\"Running chain..\")\n",
    "# all_samples = bounded_model.sample_density(\n",
    "#     num_results=mcmc_points,\n",
    "#     num_burnin_steps=int(num_burnin),\n",
    "#     initialise_chains=x_scaler.transform(np.array([1.0, -1.168]).reshape(1, -1))\n",
    "#     + 1e-6 * np.random.randn(num_chains, X.shape[1]),\n",
    "#     sampler=\"MCMC\",\n",
    "# )"
   ]
  },
  {
   "cell_type": "code",
   "execution_count": 49,
   "metadata": {},
   "outputs": [],
   "source": [
    "# dim = len(param_names)"
   ]
  },
  {
   "cell_type": "code",
   "execution_count": 50,
   "metadata": {},
   "outputs": [],
   "source": [
    "# combine_chains = np.zeros((mcmc_points * num_chains, dim))\n",
    "# for i in range(dim):\n",
    "#     combine_chains[:, i] = all_samples[:, :, i].numpy().flatten()\n",
    "# gp_samples = x_scaler.inverse_transform(combine_chains)\n",
    "\n",
    "# az_data = convert_to_arviz_data(all_samples, x_scaler, param_names)\n",
    "\n",
    "# az.summary(az_data)"
   ]
  },
  {
   "cell_type": "code",
   "execution_count": 51,
   "metadata": {},
   "outputs": [],
   "source": [
    "# %matplotlib inline\n",
    "# fig1 = corner.corner(\n",
    "#     unscaled_data[param_names],\n",
    "#     bins=50,\n",
    "#     plot_datapoints=False,\n",
    "#     labels=param_names,\n",
    "#     color=\"k\",\n",
    "#     smooth=0.9,\n",
    "#     levels=[\n",
    "#         0.5,\n",
    "#         0.9,\n",
    "#     ],\n",
    "#     hist_kwargs={\"density\": True},\n",
    "#     quantiles=[0.05, 0.95],\n",
    "# )\n",
    "\n",
    "# fig = corner.corner(\n",
    "#     gp_samples,\n",
    "#     fig=fig1,\n",
    "#     bins=50,\n",
    "#     plot_datapoints=False,\n",
    "#     labels=param_names,\n",
    "#     color=\"darkorange\",\n",
    "#     smooth=0.9,\n",
    "#     levels=[\n",
    "#         0.5,\n",
    "#         0.9,\n",
    "#     ],\n",
    "#     hist_kwargs={\"density\": True},\n",
    "#     quantiles=[0.05, 0.95],\n",
    "# )\n",
    "\n",
    "# for ax in fig.get_axes():\n",
    "#     ax.tick_params(axis=\"both\", labelsize=14)"
   ]
  },
  {
   "cell_type": "code",
   "execution_count": null,
   "metadata": {},
   "outputs": [],
   "source": []
  },
  {
   "cell_type": "code",
   "execution_count": 52,
   "metadata": {},
   "outputs": [],
   "source": [
    "# summary_ra = calc_mean_and_ci(unscaled_data[\"ra\"])\n",
    "# summary_dec = calc_mean_and_ci(unscaled_data[\"dec\"])\n",
    "# print(r\"PE ra = {}\".format(summary_ra.string))\n",
    "# print(r\"PE dec = {}\".format(summary_dec.string))"
   ]
  },
  {
   "cell_type": "code",
   "execution_count": 53,
   "metadata": {},
   "outputs": [],
   "source": [
    "# summary_ra = calc_mean_and_ci(gp_samples[:,0])\n",
    "# summary_dec = calc_mean_and_ci(gp_samples[:,1])\n",
    "# print(r\"GP ra = {}\".format(summary_ra.string))\n",
    "# print(r\"GP dec = {}\".format(summary_dec.string))"
   ]
  }
 ],
 "metadata": {
  "kernelspec": {
   "display_name": "gp4gw",
   "language": "python",
   "name": "gp4gw"
  },
  "language_info": {
   "codemirror_mode": {
    "name": "ipython",
    "version": 3
   },
   "file_extension": ".py",
   "mimetype": "text/x-python",
   "name": "python",
   "nbconvert_exporter": "python",
   "pygments_lexer": "ipython3",
   "version": "3.7.10"
  }
 },
 "nbformat": 4,
 "nbformat_minor": 4
}
