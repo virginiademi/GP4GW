{
 "cells": [
  {
   "cell_type": "code",
   "execution_count": 1,
   "metadata": {},
   "outputs": [],
   "source": [
    "import numpy as np\n",
    "import matplotlib.pyplot as plt\n",
    "import pandas as pd\n",
    "import corner\n",
    "\n",
    "from pesummary.core.plots.bounded_1d_kde import bounded_1d_kde, TransformBoundedKDE\n",
    "from pesummary.gw.plots.bounds import default_bounds\n",
    "from scipy import stats\n",
    "\n",
    "import tensorflow as tf\n",
    "import tensorflow_probability as tfp\n",
    "import gpflow\n",
    "import arviz as az\n",
    "from sklearn.preprocessing import StandardScaler, MinMaxScaler\n",
    "from uncertainties import unumpy\n",
    "\n",
    "from gp4gw.density.bounded_model import BoundedDensityModel\n",
    "from gp4gw.density.data_preparation import *\n",
    "from gp4gw.density.training_tools import *\n",
    "\n",
    "# import scipy.integrate as integrate\n",
    "from scipy import interpolate"
   ]
  },
  {
   "cell_type": "code",
   "execution_count": 2,
   "metadata": {},
   "outputs": [],
   "source": [
    "%matplotlib inline"
   ]
  },
  {
   "cell_type": "code",
   "execution_count": 3,
   "metadata": {},
   "outputs": [],
   "source": [
    "np.random.seed(103543)"
   ]
  },
  {
   "cell_type": "markdown",
   "metadata": {},
   "source": [
    "# Loading posterior samples and selecting 2 dimensions to interpolate, e.g. sky location parameters"
   ]
  },
  {
   "cell_type": "code",
   "execution_count": 4,
   "metadata": {},
   "outputs": [],
   "source": [
    "data_path = \"~/GP-density-estimation/pe_samples/GW150914_downsampled_posterior_samples.dat\""
   ]
  },
  {
   "cell_type": "code",
   "execution_count": 5,
   "metadata": {},
   "outputs": [
    {
     "name": "stdout",
     "output_type": "stream",
     "text": [
      "Posterior samples array:  (50000, 42)\n"
     ]
    }
   ],
   "source": [
    "unscaled_data = pd.read_csv(data_path).sample(frac=1)\n",
    "print(\"Posterior samples array: \", unscaled_data.shape)"
   ]
  },
  {
   "cell_type": "code",
   "execution_count": 6,
   "metadata": {},
   "outputs": [],
   "source": [
    "param_names = [\"ra\", \"dec\"]"
   ]
  },
  {
   "cell_type": "markdown",
   "metadata": {},
   "source": [
    "# Select optimal binning"
   ]
  },
  {
   "cell_type": "markdown",
   "metadata": {},
   "source": [
    "We bin the data such that w have a few empty bins where the probability is zero"
   ]
  },
  {
   "cell_type": "code",
   "execution_count": 7,
   "metadata": {},
   "outputs": [],
   "source": [
    "Nb = 30\n",
    "bin_array = np.vstack(\n",
    "    [\n",
    "        np.linspace(\n",
    "            unscaled_data[\"ra\"].min() - 0.1, unscaled_data[\"ra\"].max() + 0.1, Nb\n",
    "        ),\n",
    "        np.linspace(\n",
    "            unscaled_data[\"dec\"].min() - 0.1, unscaled_data[\"dec\"].max() + 0.1, Nb\n",
    "        ),\n",
    "    ]\n",
    ")"
   ]
  },
  {
   "cell_type": "markdown",
   "metadata": {},
   "source": [
    "# Setting up histogram and scale data"
   ]
  },
  {
   "cell_type": "markdown",
   "metadata": {},
   "source": [
    "The posterior (log_likelihood + log_prior) is defined over all parameters (~15D). \n",
    "\n",
    "We want to interpolate only over a slice (say 2D), i.e. the marginal posterior, which we can approximate as the value of bin counts in the 2D histogram."
   ]
  },
  {
   "cell_type": "code",
   "execution_count": 8,
   "metadata": {},
   "outputs": [],
   "source": [
    "counts, bins = np.histogramdd(\n",
    "    np.array(unscaled_data[param_names]), density=True, bins=bin_array\n",
    ")"
   ]
  },
  {
   "cell_type": "code",
   "execution_count": 9,
   "metadata": {},
   "outputs": [
    {
     "name": "stdout",
     "output_type": "stream",
     "text": [
      "Shape of binning: (29, 2)\n",
      "Histogram points: (841, 2)\n"
     ]
    }
   ],
   "source": [
    "x = create_2d_data_set(bins)\n",
    "y = counts.flatten()"
   ]
  },
  {
   "cell_type": "code",
   "execution_count": 10,
   "metadata": {},
   "outputs": [
    {
     "name": "stdout",
     "output_type": "stream",
     "text": [
      "Shape of x-data: N=841, Q=2\n"
     ]
    }
   ],
   "source": [
    "x_scaled, y_scaled, x_scaler, y_scaler = scale_data(x, y)\n",
    "\n",
    "X = tf.convert_to_tensor(x_scaled, dtype=tf.float64)\n",
    "Y = tf.convert_to_tensor(y_scaled.reshape(-1, 1), dtype=tf.float64)"
   ]
  },
  {
   "cell_type": "code",
   "execution_count": 11,
   "metadata": {},
   "outputs": [],
   "source": [
    "prior_ranges = {\n",
    "    \"ra\": tfp.distributions.Uniform(\n",
    "        unscaled_data[\"ra\"].min(), unscaled_data[\"ra\"].max()\n",
    "    ),\n",
    "    \"dec\": tfp.distributions.Uniform(\n",
    "        unscaled_data[\"dec\"].min(), unscaled_data[\"dec\"].max()\n",
    "    ),\n",
    "}"
   ]
  },
  {
   "cell_type": "markdown",
   "metadata": {},
   "source": [
    "# Setup GP model\n",
    "* add noise error from histogram to the GP likelihood\n",
    "* define kernel"
   ]
  },
  {
   "cell_type": "code",
   "execution_count": 12,
   "metadata": {},
   "outputs": [],
   "source": [
    "dens_std, dens_std_unscaled = calc_hist_errors(np.array(unscaled_data[param_names]), bin_array, y_scaler)"
   ]
  },
  {
   "cell_type": "code",
   "execution_count": 13,
   "metadata": {},
   "outputs": [],
   "source": [
    "dens_std_1 = dens_std + 1.1 * 10 ** - 6  # adding some jitter to avoid Cholesky decomposition errors"
   ]
  },
  {
   "cell_type": "code",
   "execution_count": 14,
   "metadata": {},
   "outputs": [],
   "source": [
    "var = dens_std_1 ** 2"
   ]
  },
  {
   "cell_type": "code",
   "execution_count": 15,
   "metadata": {},
   "outputs": [],
   "source": [
    "Y_data = np.hstack([Y, tf.reshape(var, (-1, 1))])"
   ]
  },
  {
   "cell_type": "code",
   "execution_count": 16,
   "metadata": {},
   "outputs": [],
   "source": [
    "likelihood = HeteroskedasticGaussian()"
   ]
  },
  {
   "cell_type": "code",
   "execution_count": 17,
   "metadata": {},
   "outputs": [],
   "source": [
    "k1 = gpflow.kernels.RBF(lengthscales=[0.1] * len(param_names), variance=1.0)\n",
    "k4 = gpflow.kernels.Matern12(lengthscales=[0.05] * len(param_names), variance=0.1)\n",
    "\n",
    "\n",
    "kernel = k1 * k4"
   ]
  },
  {
   "cell_type": "code",
   "execution_count": 18,
   "metadata": {},
   "outputs": [],
   "source": [
    "model = gpflow.models.VGP(\n",
    "    (X, Y_data),\n",
    "    kernel=kernel,\n",
    "    likelihood=likelihood,\n",
    "    num_latent_gps=1,\n",
    "    mean_function=gpflow.mean_functions.Constant(y_scaler.transform(np.zeros((1, 1)))),  # we set the mean GP to be zero probability dnsity\n",
    ")"
   ]
  },
  {
   "cell_type": "markdown",
   "metadata": {},
   "source": [
    "# Build GP model"
   ]
  },
  {
   "cell_type": "code",
   "execution_count": 19,
   "metadata": {},
   "outputs": [],
   "source": [
    "natgrad = gpflow.optimizers.NaturalGradient(gamma=1.0)\n",
    "adam = tf.optimizers.Adam()"
   ]
  },
  {
   "cell_type": "code",
   "execution_count": 20,
   "metadata": {},
   "outputs": [
    {
     "name": "stdout",
     "output_type": "stream",
     "text": [
      "Epoch 10: LOSS (train) 2477114.0911555374\n",
      "CPU times: user 45.2 s, sys: 7 s, total: 52.2 s\n",
      "Wall time: 6.31 s\n"
     ]
    },
    {
     "data": {
      "image/png": "[encoded data removed]",
      "text/plain": [
       "<Figure size 432x288 with 1 Axes>"
      ]
     },
     "metadata": {
      "needs_background": "light"
     },
     "output_type": "display_data"
    }
   ],
   "source": [
    "%%time\n",
    "train_exact_heteroskedastic(model, adam, natgrad, 10)"
   ]
  },
  {
   "cell_type": "code",
   "execution_count": 21,
   "metadata": {},
   "outputs": [
    {
     "name": "stdout",
     "output_type": "stream",
     "text": [
      "Training error: 0.027077731340954602\n"
     ]
    }
   ],
   "source": [
    "print(\n",
    "    f\"Training error: {mean_squared_error(Y, model.predict_f(X)[0])}\"  # , Testing error: {mean_squared_error(Y_test, model.predict_y(X_test)[0])}\"\n",
    ")"
   ]
  },
  {
   "cell_type": "code",
   "execution_count": 22,
   "metadata": {},
   "outputs": [],
   "source": [
    "bounded_model = BoundedDensityModel(\n",
    "    likelihood=model.predict_f,\n",
    "    param_names=param_names,\n",
    "    priors=prior_ranges,\n",
    "    parameters_scaler=x_scaler,\n",
    "    y_scaler=y_scaler,\n",
    ")"
   ]
  },
  {
   "cell_type": "markdown",
   "metadata": {},
   "source": [
    "# Evaluate 50% 90% and 99% contour lines for plotting 2D model\n",
    "* The contour lines are calculated for the GP mean and for the 2-sigma error bands\n",
    "* To evaluate the contours we evaluate the GP model over a grid of points"
   ]
  },
  {
   "cell_type": "code",
   "execution_count": 23,
   "metadata": {},
   "outputs": [
    {
     "name": "stdout",
     "output_type": "stream",
     "text": [
      "Shape of binning: (29, 2)\n",
      "Histogram points: (841, 2)\n"
     ]
    }
   ],
   "source": [
    "bin_grid = x_scaler.transform(create_2d_data_set(bin_array))"
   ]
  },
  {
   "cell_type": "code",
   "execution_count": 24,
   "metadata": {},
   "outputs": [],
   "source": [
    "sigmas = 2 # change here if you want different error bands"
   ]
  },
  {
   "cell_type": "code",
   "execution_count": 25,
   "metadata": {},
   "outputs": [],
   "source": [
    "# Evaluating the bounded model in \"scaled\" space\n",
    "mean, var = bounded_model.predict(bin_grid)"
   ]
  },
  {
   "cell_type": "code",
   "execution_count": 26,
   "metadata": {},
   "outputs": [],
   "source": [
    "bin_shape = Nb - 1"
   ]
  },
  {
   "cell_type": "code",
   "execution_count": 27,
   "metadata": {},
   "outputs": [],
   "source": [
    "z_high = y_scaler.inverse_transform(mean + sigmas*np.sqrt(var))\n",
    "z_high = z_high.reshape(bin_shape, bin_shape)\n",
    "z_high = z_high / z_high.sum()\n",
    "\n",
    "z_low = y_scaler.inverse_transform(mean - sigmas*np.sqrt(var))\n",
    "z_low = z_low.reshape(bin_shape, bin_shape, order=\"C\")\n",
    "z_low = z_low / z_low.sum()\n",
    "\n",
    "z = y_scaler.inverse_transform(mean)\n",
    "z = z.reshape(bin_shape, bin_shape, order=\"C\")\n",
    "z = z / z.sum()\n",
    "\n",
    "n = 1000\n",
    "t = np.linspace(0, z.max(), n)\n",
    "t_high = np.linspace(0, z_high.max(), n)\n",
    "t_low = np.linspace(0, z_low.max(), n)\n",
    "\n",
    "integral = ((z >= t[:, None, None]) * z).sum(axis=(1, 2))\n",
    "f = interpolate.interp1d(integral, t)\n",
    "\n",
    "integral_high = ((z_high >= t_high[:, None, None]) * z_high).sum(axis=(1, 2))\n",
    "f_high = interpolate.interp1d(integral_high, t_high)\n",
    "\n",
    "integral_low = ((z_low >= t_low[:, None, None]) * z_low).sum(axis=(1, 2))\n",
    "f_low = interpolate.interp1d(integral, t_low)\n",
    "\n",
    "t_contours = f(np.array([0.99, 0.90, 0.5]))\n",
    "t_contours_high = f_high(np.array([0.99, 0.90, 0.5]))\n",
    "t_contours_low = f_low(np.array([0.99, 0.90, 0.5]))"
   ]
  },
  {
   "cell_type": "markdown",
   "metadata": {},
   "source": [
    "# Marginalise GP model mean and uncertainty over ra and dec\n",
    "\n",
    "* To propagate the errors from \"scaled\" space to \"real\" space we use the uncertainty package\n",
    "* The marginals are then normalised to be a density: Density counts = N_counts / Volume"
   ]
  },
  {
   "cell_type": "code",
   "execution_count": 28,
   "metadata": {},
   "outputs": [],
   "source": [
    "mean = mean.reshape(bin_shape, bin_shape, order=\"C\")\n",
    "gp_var = var.reshape(bin_shape, bin_shape, order=\"C\")"
   ]
  },
  {
   "cell_type": "code",
   "execution_count": 29,
   "metadata": {},
   "outputs": [],
   "source": [
    "mean_ra = np.mean(mean, axis=1)\n",
    "mean_dec = np.mean(mean, axis=0)"
   ]
  },
  {
   "cell_type": "code",
   "execution_count": 30,
   "metadata": {},
   "outputs": [],
   "source": [
    "std_ra = np.sqrt(np.mean(gp_var, axis=1))\n",
    "std_dec = np.sqrt(np.mean(gp_var, axis=1))"
   ]
  },
  {
   "cell_type": "code",
   "execution_count": 31,
   "metadata": {},
   "outputs": [],
   "source": [
    "sum_with_error_ra = unumpy.uarray(mean_ra, std_ra)\n",
    "sum_with_error_dec = unumpy.uarray(mean_dec, std_dec)"
   ]
  },
  {
   "cell_type": "code",
   "execution_count": 32,
   "metadata": {},
   "outputs": [],
   "source": [
    "scaled_sum_with_error_ra = sum_with_error_ra * y_scaler.scale_\n",
    "scaled_sum_with_error_ra = scaled_sum_with_error_ra + y_scaler.mean_\n",
    "\n",
    "scaled_sum_with_error_dec = sum_with_error_dec * y_scaler.scale_\n",
    "scaled_sum_with_error_dec = scaled_sum_with_error_dec + y_scaler.mean_"
   ]
  },
  {
   "cell_type": "code",
   "execution_count": 33,
   "metadata": {},
   "outputs": [],
   "source": [
    "# Normalise so that it is a density\n",
    "scaled_dens_with_error_ra = (\n",
    "    scaled_sum_with_error_ra\n",
    "    * 1\n",
    "    / (unumpy.nominal_values(scaled_sum_with_error_ra) * np.diff(bin_array[0])).sum()\n",
    ")\n",
    "\n",
    "scaled_dens_with_error_dec = (\n",
    "    scaled_sum_with_error_dec\n",
    "    * 1\n",
    "    / (unumpy.nominal_values(scaled_sum_with_error_dec) * np.diff(bin_array[1])).sum()\n",
    ")"
   ]
  },
  {
   "cell_type": "code",
   "execution_count": 34,
   "metadata": {},
   "outputs": [],
   "source": [
    "# Extracting error with uncertainty package\n",
    "scaled_ra_std = unumpy.std_devs(scaled_dens_with_error_ra)\n",
    "scaled_dec_std = unumpy.std_devs(scaled_dens_with_error_dec)"
   ]
  },
  {
   "cell_type": "code",
   "execution_count": 35,
   "metadata": {},
   "outputs": [],
   "source": [
    "scaled_ra_mean = unumpy.nominal_values(scaled_dens_with_error_ra)\n",
    "scaled_dec_mean = unumpy.nominal_values(scaled_dens_with_error_dec)"
   ]
  },
  {
   "cell_type": "code",
   "execution_count": 36,
   "metadata": {},
   "outputs": [],
   "source": [
    "# Estimating the 2-sigma confidence bands\n",
    "upper_var_ra = scaled_ra_mean + sigmas * scaled_ra_std\n",
    "lower_var_ra = scaled_ra_mean - sigmas * scaled_ra_std\n",
    "\n",
    "upper_var_dec = scaled_dec_mean + sigmas * scaled_dec_std\n",
    "lower_var_dec = scaled_dec_mean - sigmas * scaled_dec_std"
   ]
  },
  {
   "cell_type": "markdown",
   "metadata": {},
   "source": [
    "# Combine all plots together"
   ]
  },
  {
   "cell_type": "code",
   "execution_count": 37,
   "metadata": {},
   "outputs": [],
   "source": [
    "bin_plot = bin_array.copy()"
   ]
  },
  {
   "cell_type": "code",
   "execution_count": 38,
   "metadata": {},
   "outputs": [
    {
     "name": "stdout",
     "output_type": "stream",
     "text": [
      "PE ra = ${1.62}_{-0.57}^{+0.74}$\n",
      "PE dec = ${-1.20}_{-0.06}^{+0.13}$\n"
     ]
    }
   ],
   "source": [
    "summary_ra = calc_mean_and_ci(unscaled_data[\"ra\"])\n",
    "summary_dec = calc_mean_and_ci(unscaled_data[\"dec\"])\n",
    "print(r\"PE ra = {}\".format(summary_ra.string))\n",
    "print(r\"PE dec = {}\".format(summary_dec.string))"
   ]
  },
  {
   "cell_type": "code",
   "execution_count": 39,
   "metadata": {},
   "outputs": [
    {
     "data": {
      "text/plain": [
       "<matplotlib.legend.Legend at 0x2b64a694c350>"
      ]
     },
     "execution_count": 39,
     "metadata": {},
     "output_type": "execute_result"
    },
    {
     "data": {
      "image/png": "[encoded data removed]",
      "text/plain": [
       "<Figure size 720x720 with 4 Axes>"
      ]
     },
     "metadata": {
      "needs_background": "light"
     },
     "output_type": "display_data"
    }
   ],
   "source": [
    "%matplotlib inline\n",
    "fig, axes = plt.subplots(\n",
    "    figsize=(10, 10),\n",
    "    sharex=False,\n",
    "    sharey=False,\n",
    "    ncols=2,\n",
    "    nrows=2,\n",
    "    gridspec_kw={\"width_ratios\": [3, 1], \"height_ratios\": [1, 3]},\n",
    ")\n",
    "# labels = [ r'Original PE samples',r'GP samples', r'Bounded KDE samples']\n",
    "\n",
    "axes[0, 0].hist(\n",
    "    unscaled_data[\"ra\"],\n",
    "    density=True,\n",
    "    histtype=\"step\",\n",
    "    bins=bin_plot[0],\n",
    "    linewidth=2,\n",
    "    label=\"PE samples\",\n",
    "    color='k',\n",
    ")\n",
    "axes[0, 0].plot(\n",
    "    centroid_calc(bins[0]),\n",
    "    scaled_ra_mean,\n",
    "    color='darkorange',\n",
    "    label=r\"GP $\\mu(\\vec{x})$, $2\\sigma(\\vec{x})$\",\n",
    ")\n",
    "\n",
    "axes[0, 0].fill_between(\n",
    "    centroid_calc(bins[0]),\n",
    "    upper_var_ra,\n",
    "    lower_var_ra,\n",
    "    color='darkorange',\n",
    "    alpha=0.2,\n",
    ")\n",
    "\n",
    "# axes[0, 0].hist(gp_samples[:,0], density=True, histtype='step', bins=bin_plot[0], linewidth=2, label='GP model samples', color=CB_color_cycle[2])\n",
    "\n",
    "axes[0, 0].set_xticklabels([])\n",
    "axes[0, 0].set_yticklabels([])\n",
    "axes[0, 1].axis(\"off\")\n",
    "\n",
    "axes[1, 0].contour(\n",
    "    z.T,\n",
    "    t_contours,\n",
    "    extent=[bin_array[0, :].min(), bin_array[0, :].max(), bin_array[1, :].min(), bin_array[1, :].max()],\n",
    "    colors=\"darkorange\",\n",
    "    linewidths=2,\n",
    ")\n",
    "\n",
    "a = axes[1, 0].contour(\n",
    "    z_high.T,\n",
    "    t_contours_high,\n",
    "    extent=[bin_array[0, :].min(), bin_array[0, :].max(), bin_array[1, :].min(), bin_array[1, :].max()],\n",
    "    colors=\"red\",\n",
    "    linewidths=0,\n",
    ")\n",
    "b = axes[1, 0].contour(\n",
    "    z_low.T,\n",
    "    t_contours_low,\n",
    "    extent=[bin_array[0, :].min(), bin_array[0, :].max(), bin_array[1, :].min(), bin_array[1, :].max()],\n",
    "    colors=\"blue\",\n",
    "    linewidths=0,\n",
    ")\n",
    "k = 0\n",
    "for i in range(len(t_contours)):\n",
    "    j = i + 1\n",
    "    p = a.collections[i].get_paths()[k]\n",
    "    v = p.vertices\n",
    "    xxx = v[:, 0]\n",
    "    yyy = v[:, 1]\n",
    "\n",
    "    pp = b.collections[i].get_paths()[k]\n",
    "    vv = pp.vertices\n",
    "    xx = vv[:, 0]\n",
    "    yy = vv[:, 1]\n",
    "\n",
    "    axes[1, 0].fill(\n",
    "        np.append(xx, xxx[::-1]),\n",
    "        np.append(yy, yyy[::-1]),\n",
    "        alpha=j / 3,\n",
    "        color=\"darkorange\",\n",
    "    )\n",
    "\n",
    "x_nonzero = x[y > 0]\n",
    "axes[1, 0].scatter(x_nonzero[:, 0], x_nonzero[:, 1], color=\"k\", marker=\"x\")\n",
    "\n",
    "axes[1, 0].set_xlabel(\"ra\", fontsize=20)\n",
    "axes[1, 0].set_ylabel(\"dec\", fontsize=20)\n",
    "\n",
    "axes[1, 1].hist(\n",
    "    unscaled_data[\"dec\"],\n",
    "    density=True,\n",
    "    histtype=\"step\",\n",
    "    bins=bin_plot[1],\n",
    "    orientation=\"horizontal\",\n",
    "    linewidth=2,\n",
    "    color='k',\n",
    ")\n",
    "axes[1, 1].plot(scaled_dec_mean, centroid_calc(bins[1]), color='darkorange')\n",
    "\n",
    "axes[1, 1].fill_betweenx(\n",
    "    centroid_calc(bins[1]),\n",
    "    upper_var_dec,\n",
    "    lower_var_dec,\n",
    "    color='darkorange',\n",
    "    alpha=0.2,\n",
    ")\n",
    "\n",
    "axes[1, 1].set_xticklabels([])\n",
    "axes[1, 1].set_yticklabels([])\n",
    "\n",
    "axes[0, 0].axvline(\n",
    "    summary_ra.median - summary_ra.minus, ls=\"--\", color='k'\n",
    ")\n",
    "axes[0, 0].axvline(\n",
    "    summary_ra.median + summary_ra.plus, ls=\"--\", color='k'\n",
    ")\n",
    "\n",
    "axes[1, 1].axhline(\n",
    "    summary_dec.median - summary_dec.minus, ls=\"--\", color='k'\n",
    ")\n",
    "\n",
    "axes[1, 1].axhline(\n",
    "    summary_dec.median + summary_dec.plus, ls=\"--\", color='k'\n",
    ")\n",
    "\n",
    "for ax in fig.get_axes():\n",
    "    ax.tick_params(axis=\"both\", labelsize=12)\n",
    "plt.subplots_adjust(wspace=0, hspace=0)\n",
    "\n",
    "handles, labels = axes[0, 0].get_legend_handles_labels()\n",
    "\n",
    "order = [1, 0]\n",
    "\n",
    "axes[1, 0].legend(\n",
    "    [handles[idx] for idx in order],\n",
    "    [labels[idx] for idx in order],\n",
    "    fontsize=16,\n",
    "    loc=\"lower center\",\n",
    "    bbox_to_anchor=(0.23, 0.79),\n",
    ")\n",
    "\n",
    "# fig.legend(labels, loc='lower center', bbox_to_anchor=(0.45,0.01), ncol=len(labels), bbox_transform=fig.transFigure, fontsize=15)\n",
    "# plt.savefig(\"GP_2D_sky_loc.png\", dpi=100)"
   ]
  },
  {
   "cell_type": "markdown",
   "metadata": {},
   "source": [
    "# Extra: re-sample ra and dec with MCMC"
   ]
  },
  {
   "cell_type": "code",
   "execution_count": 40,
   "metadata": {},
   "outputs": [
    {
     "name": "stdout",
     "output_type": "stream",
     "text": [
      "mcmc_points: 3000, num_burnin: 900\n",
      "Running chain..\n",
      "WARNING:tensorflow:From /home/virginia.demilio/.conda/envs/gp4gw/lib/python3.7/site-packages/tensorflow_probability/python/mcmc/kernel.py:104: calling RandomWalkMetropolis.__init__ (from tensorflow_probability.python.mcmc.random_walk_metropolis) with seed is deprecated and will be removed after 2020-09-20.\n",
      "Instructions for updating:\n",
      "The `seed` argument is deprecated (but will work until removed). Pass seed to `tfp.mcmc.sample_chain` instead.\n",
      "Running sampler with TransformedTransitionKernel\n"
     ]
    },
    {
     "name": "stderr",
     "output_type": "stream",
     "text": [
      "/home/virginia.demilio/.conda/envs/gp4gw/lib/python3.7/site-packages/tensorflow_probability/python/mcmc/sample.py:338: UserWarning: Tracing all kernel results by default is deprecated. Set the `trace_fn` argument to None (the future default value) or an explicit callback that traces the values you are interested in.\n",
      "  warnings.warn('Tracing all kernel results by default is deprecated. Set '\n"
     ]
    },
    {
     "name": "stdout",
     "output_type": "stream",
     "text": [
      "CPU times: user 42.3 s, sys: 2.12 s, total: 44.4 s\n",
      "Wall time: 33.9 s\n"
     ]
    }
   ],
   "source": [
    "%%time\n",
    "mcmc_points = 3000\n",
    "num_burnin = mcmc_points * 0.3\n",
    "num_chains = 2\n",
    "\n",
    "print(f\"mcmc_points: {mcmc_points}, num_burnin: {int(num_burnin)}\")\n",
    "print(\"Running chain..\")\n",
    "all_samples = bounded_model.sample_density(\n",
    "    num_results=mcmc_points,\n",
    "    num_burnin_steps=int(num_burnin),\n",
    "    initialise_chains=x_scaler.transform(np.array([1.0, -1.168]).reshape(1, -1))\n",
    "    + 1e-6 * np.random.randn(num_chains, X.shape[1]),\n",
    "    sampler=\"MCMC\",\n",
    ")"
   ]
  },
  {
   "cell_type": "code",
   "execution_count": 41,
   "metadata": {},
   "outputs": [],
   "source": [
    "dim = len(param_names)"
   ]
  },
  {
   "cell_type": "code",
   "execution_count": 42,
   "metadata": {},
   "outputs": [
    {
     "data": {
      "text/html": [
       "<div>\n",
       "<style scoped>\n",
       "    .dataframe tbody tr th:only-of-type {\n",
       "        vertical-align: middle;\n",
       "    }\n",
       "\n",
       "    .dataframe tbody tr th {\n",
       "        vertical-align: top;\n",
       "    }\n",
       "\n",
       "    .dataframe thead th {\n",
       "        text-align: right;\n",
       "    }\n",
       "</style>\n",
       "<table border=\"1\" class=\"dataframe\">\n",
       "  <thead>\n",
       "    <tr style=\"text-align: right;\">\n",
       "      <th></th>\n",
       "      <th>mean</th>\n",
       "      <th>sd</th>\n",
       "      <th>hdi_3%</th>\n",
       "      <th>hdi_97%</th>\n",
       "      <th>mcse_mean</th>\n",
       "      <th>mcse_sd</th>\n",
       "      <th>ess_bulk</th>\n",
       "      <th>ess_tail</th>\n",
       "      <th>r_hat</th>\n",
       "    </tr>\n",
       "  </thead>\n",
       "  <tbody>\n",
       "    <tr>\n",
       "      <th>ra</th>\n",
       "      <td>1.691</td>\n",
       "      <td>0.558</td>\n",
       "      <td>0.927</td>\n",
       "      <td>2.566</td>\n",
       "      <td>0.034</td>\n",
       "      <td>0.024</td>\n",
       "      <td>259.0</td>\n",
       "      <td>364.0</td>\n",
       "      <td>1.01</td>\n",
       "    </tr>\n",
       "    <tr>\n",
       "      <th>dec</th>\n",
       "      <td>-1.168</td>\n",
       "      <td>0.137</td>\n",
       "      <td>-1.321</td>\n",
       "      <td>-0.989</td>\n",
       "      <td>0.011</td>\n",
       "      <td>0.007</td>\n",
       "      <td>610.0</td>\n",
       "      <td>366.0</td>\n",
       "      <td>1.00</td>\n",
       "    </tr>\n",
       "  </tbody>\n",
       "</table>\n",
       "</div>"
      ],
      "text/plain": [
       "      mean     sd  hdi_3%  hdi_97%  mcse_mean  mcse_sd  ess_bulk  ess_tail  \\\n",
       "ra   1.691  0.558   0.927    2.566      0.034    0.024     259.0     364.0   \n",
       "dec -1.168  0.137  -1.321   -0.989      0.011    0.007     610.0     366.0   \n",
       "\n",
       "     r_hat  \n",
       "ra    1.01  \n",
       "dec   1.00  "
      ]
     },
     "execution_count": 42,
     "metadata": {},
     "output_type": "execute_result"
    }
   ],
   "source": [
    "combine_chains = np.zeros((mcmc_points * num_chains, dim))\n",
    "for i in range(dim):\n",
    "    combine_chains[:, i] = all_samples[:, :, i].numpy().flatten()\n",
    "gp_samples = x_scaler.inverse_transform(combine_chains)\n",
    "\n",
    "az_data = convert_to_arviz_data(all_samples, x_scaler, param_names)\n",
    "\n",
    "az.summary(az_data)"
   ]
  },
  {
   "cell_type": "code",
   "execution_count": 43,
   "metadata": {},
   "outputs": [
    {
     "name": "stderr",
     "output_type": "stream",
     "text": [
      "WARNING:root:Pandas support in corner is deprecated; use ArviZ directly\n"
     ]
    },
    {
     "data": {
      "image/png": "[encoded data removed]",
      "text/plain": [
       "<Figure size 396x396 with 4 Axes>"
      ]
     },
     "metadata": {
      "needs_background": "light"
     },
     "output_type": "display_data"
    }
   ],
   "source": [
    "%matplotlib inline\n",
    "fig1 = corner.corner(\n",
    "    unscaled_data[param_names],\n",
    "    bins=50,\n",
    "    plot_datapoints=False,\n",
    "    labels=param_names,\n",
    "    color=\"k\",\n",
    "    smooth=0.9,\n",
    "    levels=[\n",
    "        0.5,\n",
    "        0.9,\n",
    "    ],\n",
    "    hist_kwargs={\"density\": True},\n",
    "    quantiles=[0.05, 0.95],\n",
    ")\n",
    "\n",
    "fig = corner.corner(\n",
    "    gp_samples,\n",
    "    fig=fig1,\n",
    "    bins=50,\n",
    "    plot_datapoints=False,\n",
    "    labels=param_names,\n",
    "    color=\"darkorange\",\n",
    "    smooth=0.9,\n",
    "    levels=[\n",
    "        0.5,\n",
    "        0.9,\n",
    "    ],\n",
    "    hist_kwargs={\"density\": True},\n",
    "    quantiles=[0.05, 0.95],\n",
    ")\n",
    "\n",
    "for ax in fig.get_axes():\n",
    "    ax.tick_params(axis=\"both\", labelsize=14)"
   ]
  },
  {
   "cell_type": "code",
   "execution_count": null,
   "metadata": {},
   "outputs": [],
   "source": []
  }
 ],
 "metadata": {
  "kernelspec": {
   "display_name": "gp4gw",
   "language": "python",
   "name": "gp4gw"
  },
  "language_info": {
   "codemirror_mode": {
    "name": "ipython",
    "version": 3
   },
   "file_extension": ".py",
   "mimetype": "text/x-python",
   "name": "python",
   "nbconvert_exporter": "python",
   "pygments_lexer": "ipython3",
   "version": "3.7.10"
  }
 },
 "nbformat": 4,
 "nbformat_minor": 4
}
